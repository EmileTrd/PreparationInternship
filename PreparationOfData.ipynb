{
 "cells": [
  {
   "cell_type": "markdown",
   "id": "049809c5",
   "metadata": {},
   "source": [
    "# Python Fundamentals\n",
    "## Variables and Data Types"
   ]
  },
  {
   "cell_type": "code",
   "execution_count": null,
   "id": "abf9f205",
   "metadata": {},
   "outputs": [],
   "source": [
    "# Variables : Store data values\n",
    "\n",
    "x = 5             #integer\n",
    "y = 3.14          #float\n",
    "name = \"Emile\"    #string\n",
    "is_active = True  #boolean\n",
    "z = 2 + 3j        # complex\n",
    "fruits = [\"apple\",\"banana\",\"cherry\"] #list\n",
    "point = (4, 5)  # tuple\n",
    "student = {\"name\": \"Emile\", \"age\": 22, \"is_active\": True}  # dictionary\n",
    "unique_numbers = {1, 2, 3, 4, 5}  # set"
   ]
  },
  {
   "cell_type": "markdown",
   "id": "d26e53db",
   "metadata": {},
   "source": [
    "Data Types : \n",
    "- Numeric : int, float, complex\n",
    "- Text : str\n",
    "- Sequence : \n",
    "    - list:  Collection ordonnée et modifiable d'éléments. Peut contenir différents types de données.\n",
    "    - tuple: Collection ordonnée mais non modifiable (immutable). Les tuples sont souvent utilisés pour stocker plusieurs éléments dans une variable.\n",
    "- Mapping : dict (Collection de paires clé-valeur, non ordonnée et modifiable. Les clés doivent être uniques.)\n",
    "- Set : set (Collection non ordonnée, non indexée d'éléments uniques. Utile pour éviter les doublons), fronzenset\n",
    "- Boolean : bool\n",
    "\n",
    "## Control Structures"
   ]
  },
  {
   "cell_type": "code",
   "execution_count": null,
   "id": "26ce48ff",
   "metadata": {},
   "outputs": [],
   "source": [
    "# Conditional Statements\n",
    "if condition :\n",
    "    # Code block\n",
    "elif another_condition:\n",
    "    # Code block\n",
    "else : \n",
    "    # Code block"
   ]
  },
  {
   "cell_type": "code",
   "execution_count": 1,
   "id": "f41db321",
   "metadata": {},
   "outputs": [
    {
     "name": "stdout",
     "output_type": "stream",
     "text": [
      "A\n"
     ]
    }
   ],
   "source": [
    "score = 100\n",
    "\n",
    "if score >= 90:\n",
    "    grade = 'A'\n",
    "elif score >= 80:\n",
    "    grade = 'B'\n",
    "else:\n",
    "    grade = 'C'\n",
    "\n",
    "print(grade)"
   ]
  },
  {
   "cell_type": "code",
   "execution_count": null,
   "id": "e1158db5",
   "metadata": {},
   "outputs": [],
   "source": [
    "# Loops\n",
    "for item in iterable:\n",
    "    # Code block"
   ]
  },
  {
   "cell_type": "code",
   "execution_count": 2,
   "id": "d9654939",
   "metadata": {},
   "outputs": [
    {
     "name": "stdout",
     "output_type": "stream",
     "text": [
      "0\n",
      "1\n",
      "2\n",
      "3\n",
      "4\n"
     ]
    }
   ],
   "source": [
    "# Example\n",
    "for i in range(5):\n",
    "    print(i)"
   ]
  },
  {
   "cell_type": "code",
   "execution_count": null,
   "id": "5f60ecc8",
   "metadata": {},
   "outputs": [],
   "source": [
    "# While Loop:\n",
    "while condition:\n",
    "    #Code block"
   ]
  },
  {
   "cell_type": "code",
   "execution_count": 3,
   "id": "f5cb0a52",
   "metadata": {},
   "outputs": [
    {
     "name": "stdout",
     "output_type": "stream",
     "text": [
      "0\n",
      "1\n",
      "2\n",
      "3\n",
      "4\n"
     ]
    }
   ],
   "source": [
    "#Example\n",
    "count = 0\n",
    "\n",
    "while count < 5:\n",
    "    print(count)\n",
    "    count += 1"
   ]
  },
  {
   "cell_type": "markdown",
   "id": "4092d922",
   "metadata": {},
   "source": [
    "## Functions"
   ]
  },
  {
   "cell_type": "code",
   "execution_count": null,
   "id": "dc4cc64b",
   "metadata": {},
   "outputs": [],
   "source": [
    "# Defining Functions\n",
    "\n",
    "def function_name(parameters):\n",
    "    #Code block\n",
    "    return value"
   ]
  },
  {
   "cell_type": "code",
   "execution_count": null,
   "id": "8fbae1e8",
   "metadata": {},
   "outputs": [],
   "source": [
    "# Example\n",
    "\n",
    "def add_numbers(a,b):\n",
    "    return a + b"
   ]
  },
  {
   "cell_type": "markdown",
   "id": "cdb2fb08",
   "metadata": {},
   "source": [
    "## Modules and Packages"
   ]
  },
  {
   "cell_type": "code",
   "execution_count": null,
   "id": "43640ebb",
   "metadata": {},
   "outputs": [],
   "source": [
    "# Importing Modules\n",
    "import module_name\n",
    "from module_name import function_name"
   ]
  },
  {
   "cell_type": "code",
   "execution_count": 5,
   "id": "9abde807",
   "metadata": {},
   "outputs": [
    {
     "name": "stdout",
     "output_type": "stream",
     "text": [
      "4.0\n"
     ]
    }
   ],
   "source": [
    "# Example \n",
    "import math\n",
    "print(math.sqrt(16))"
   ]
  },
  {
   "cell_type": "markdown",
   "id": "284c9617",
   "metadata": {},
   "source": [
    "## File Input/Output"
   ]
  },
  {
   "cell_type": "code",
   "execution_count": null,
   "id": "35662755",
   "metadata": {},
   "outputs": [],
   "source": [
    "# Reading a File\n",
    "\n",
    "with open(\"data.txt\", 'r') as file:\n",
    "    content = file.read()\n",
    "    \n",
    "#Writing to a File:\n",
    "\n",
    "with open('output.txt','w') as file:\n",
    "    file.write('Hello World!')"
   ]
  },
  {
   "cell_type": "markdown",
   "id": "a1d19675",
   "metadata": {},
   "source": [
    "# NumPy Basics\n",
    "NumPy is a powerful library for numerical computations\n",
    "## Importing NumPy"
   ]
  },
  {
   "cell_type": "code",
   "execution_count": 6,
   "id": "bc6f842a",
   "metadata": {},
   "outputs": [],
   "source": [
    "import numpy as np"
   ]
  },
  {
   "cell_type": "markdown",
   "id": "f6600736",
   "metadata": {},
   "source": [
    "## Creating Arrays"
   ]
  },
  {
   "cell_type": "code",
   "execution_count": 7,
   "id": "2c5b4c6a",
   "metadata": {},
   "outputs": [
    {
     "name": "stdout",
     "output_type": "stream",
     "text": [
      "[[0. 0. 0.]\n",
      " [0. 0. 0.]\n",
      " [0. 0. 0.]]\n"
     ]
    }
   ],
   "source": [
    "# From lists:\n",
    "arr = np.array([1, 2, 3])\n",
    "# Zeros and Ones\n",
    "zeros = np.zeros((3,3)) # 3x3 matrix of zeros\n",
    "ones = np.ones((2,4)) # 2x3 matrix of ones\n",
    "\n",
    "print(zeros)"
   ]
  },
  {
   "cell_type": "code",
   "execution_count": null,
   "id": "defccabf",
   "metadata": {},
   "outputs": [],
   "source": [
    "# Random Arrays\n",
    "rand_arr = np.random.rand(5) # 1D array with 5 ramdom numbers between 0 and 1\n",
    "rand_int = np.random.randint(1,100,size=(3,3)) # 3x3 matrix of random integers between 1 and 99"
   ]
  },
  {
   "cell_type": "markdown",
   "id": "cbae8b4c",
   "metadata": {},
   "source": [
    "## Array Operation"
   ]
  },
  {
   "cell_type": "code",
   "execution_count": null,
   "id": "079fc623",
   "metadata": {},
   "outputs": [],
   "source": [
    "# Arithmetic Operations:\n",
    "arr1 = np.array([1,2,3])\n",
    "arr2 = np.array([4,5,6])\n",
    "\n",
    "sum_arr = arr1 + arr2 # Element-wise addition\n",
    "diff_arr = arr1 - arr2 # Element-wise substraction\n",
    "prod_arr = arr1 * arr2 # Element-wise multiplication\n",
    "div_arr = arr1 / arr2 # Element-wise division"
   ]
  },
  {
   "cell_type": "code",
   "execution_count": 12,
   "id": "c573ce8d",
   "metadata": {},
   "outputs": [
    {
     "name": "stdout",
     "output_type": "stream",
     "text": [
      "Mean :3.0\n",
      "Median :3.0\n",
      "Standard Deviation :1.41\n",
      "Total :15\n"
     ]
    }
   ],
   "source": [
    "# Statistical Functions:\n",
    "arr = np.array([1,2,3,4,5])\n",
    "\n",
    "mean = np.mean(arr) \n",
    "median = np.median(arr)\n",
    "std_dev = np.std(arr)\n",
    "sum_total = np.sum(arr)\n",
    "\n",
    "print(\"Mean :\" + str(mean))\n",
    "print(\"Median :\" + str(median))\n",
    "print(\"Standard Deviation :\" + str(round(std_dev,2)))\n",
    "print(\"Total :\" + str(sum_total))"
   ]
  },
  {
   "cell_type": "markdown",
   "id": "b181d7bf",
   "metadata": {},
   "source": [
    "## Indexing and Slicing"
   ]
  },
  {
   "cell_type": "code",
   "execution_count": null,
   "id": "9c8ab7e5",
   "metadata": {},
   "outputs": [],
   "source": [
    "# Accessing Elements:\n",
    "arr = np.array([10, 20, 30, 40, 50])\n",
    "first_element = arr[0]\n",
    "last_element = arr[-1]"
   ]
  },
  {
   "cell_type": "code",
   "execution_count": null,
   "id": "cd78ddae",
   "metadata": {},
   "outputs": [],
   "source": [
    "# Slicing\n",
    "sub_arr = arr[1:4]    # [20,30,40]"
   ]
  },
  {
   "cell_type": "markdown",
   "id": "874bfb48",
   "metadata": {},
   "source": [
    "## Example Use Case"
   ]
  },
  {
   "cell_type": "code",
   "execution_count": 13,
   "id": "2101b5ad",
   "metadata": {},
   "outputs": [
    {
     "name": "stdout",
     "output_type": "stream",
     "text": [
      "32\n"
     ]
    }
   ],
   "source": [
    "# Calculating Dot Product : Dot product of two arrays\n",
    "vector_a = np.array([1,2,3])\n",
    "vector_b = np.array([4,5,6])\n",
    "\n",
    "dot_product = np.dot(vector_a,vector_b)\n",
    "print(dot_product)"
   ]
  },
  {
   "cell_type": "markdown",
   "id": "0a39fd94",
   "metadata": {},
   "source": [
    "# Data Manipulation with Pandas\n",
    "Pandas is essential for adata analysis and manipulation\n",
    "## Importing Pandas"
   ]
  },
  {
   "cell_type": "code",
   "execution_count": 13,
   "id": "66d044c2",
   "metadata": {},
   "outputs": [],
   "source": [
    "import pandas as pd"
   ]
  },
  {
   "cell_type": "markdown",
   "id": "ceb376de",
   "metadata": {},
   "source": [
    "## Data Structures\n",
    "Serie: One-dimensional array with labels"
   ]
  },
  {
   "cell_type": "code",
   "execution_count": 16,
   "id": "03c18309",
   "metadata": {},
   "outputs": [],
   "source": [
    "s = pd.Series([1, 3, 5, np.nan, 6, 8])"
   ]
  },
  {
   "cell_type": "markdown",
   "id": "645c167e",
   "metadata": {},
   "source": [
    "DataFrame: Two-dimensional, size-mutable, tabular data"
   ]
  },
  {
   "cell_type": "code",
   "execution_count": 17,
   "id": "1725b846",
   "metadata": {},
   "outputs": [
    {
     "data": {
      "text/html": [
       "<div>\n",
       "<style scoped>\n",
       "    .dataframe tbody tr th:only-of-type {\n",
       "        vertical-align: middle;\n",
       "    }\n",
       "\n",
       "    .dataframe tbody tr th {\n",
       "        vertical-align: top;\n",
       "    }\n",
       "\n",
       "    .dataframe thead th {\n",
       "        text-align: right;\n",
       "    }\n",
       "</style>\n",
       "<table border=\"1\" class=\"dataframe\">\n",
       "  <thead>\n",
       "    <tr style=\"text-align: right;\">\n",
       "      <th></th>\n",
       "      <th>Name</th>\n",
       "      <th>Age</th>\n",
       "      <th>City</th>\n",
       "    </tr>\n",
       "  </thead>\n",
       "  <tbody>\n",
       "    <tr>\n",
       "      <th>0</th>\n",
       "      <td>John</td>\n",
       "      <td>28</td>\n",
       "      <td>New York</td>\n",
       "    </tr>\n",
       "    <tr>\n",
       "      <th>1</th>\n",
       "      <td>Anna</td>\n",
       "      <td>24</td>\n",
       "      <td>Paris</td>\n",
       "    </tr>\n",
       "    <tr>\n",
       "      <th>2</th>\n",
       "      <td>Peter</td>\n",
       "      <td>35</td>\n",
       "      <td>Berlin</td>\n",
       "    </tr>\n",
       "    <tr>\n",
       "      <th>3</th>\n",
       "      <td>Linda</td>\n",
       "      <td>32</td>\n",
       "      <td>London</td>\n",
       "    </tr>\n",
       "  </tbody>\n",
       "</table>\n",
       "</div>"
      ],
      "text/plain": [
       "    Name  Age      City\n",
       "0   John   28  New York\n",
       "1   Anna   24     Paris\n",
       "2  Peter   35    Berlin\n",
       "3  Linda   32    London"
      ]
     },
     "execution_count": 17,
     "metadata": {},
     "output_type": "execute_result"
    }
   ],
   "source": [
    "data = {'Name': ['John', 'Anna', 'Peter', 'Linda'],\n",
    "        'Age': [28, 24, 35, 32],\n",
    "        'City': ['New York', 'Paris', 'Berlin', 'London']}\n",
    "\n",
    "df = pd.DataFrame(data)\n",
    "df"
   ]
  },
  {
   "cell_type": "markdown",
   "id": "f3bf1552",
   "metadata": {},
   "source": [
    "## Importing/Exporting Data"
   ]
  },
  {
   "cell_type": "code",
   "execution_count": null,
   "id": "1ab75755",
   "metadata": {},
   "outputs": [],
   "source": [
    "# Read CSV File:\n",
    "df = pd.read_csv('data.csv')\n",
    "# Write to CSV File:\n",
    "df.to_csv('output.csv', index=False)"
   ]
  },
  {
   "cell_type": "markdown",
   "id": "bd7668db",
   "metadata": {},
   "source": [
    "## Data Inspection"
   ]
  },
  {
   "cell_type": "code",
   "execution_count": null,
   "id": "112f1727",
   "metadata": {},
   "outputs": [],
   "source": [
    "# View Top Rows:\n",
    "df.head()     # First 5 Rows\n",
    "df.head(10)   # First 10 Rows"
   ]
  },
  {
   "cell_type": "code",
   "execution_count": null,
   "id": "5e39f52a",
   "metadata": {},
   "outputs": [],
   "source": [
    "# Get Data Info:\n",
    "df.info()     # Data types and non-null counts"
   ]
  },
  {
   "cell_type": "code",
   "execution_count": null,
   "id": "32da5e15",
   "metadata": {},
   "outputs": [],
   "source": [
    "# Statistical Summary:\n",
    "df.describe() # Summary statistics"
   ]
  },
  {
   "cell_type": "markdown",
   "id": "aba04a5b",
   "metadata": {},
   "source": [
    "## Data Cleaning\n",
    "- Handling Missing Values:"
   ]
  },
  {
   "cell_type": "code",
   "execution_count": null,
   "id": "8112335b",
   "metadata": {},
   "outputs": [],
   "source": [
    "# Detect Missing Values\n",
    "df.isnull() # Returns DataFrame of booleans \n",
    "df.isnull().sum() # Sum of missing values per column\n",
    "\n",
    "# Drop Missing Values:\n",
    "df.dropna(inplace=True) # Drops rows with any missing values\n",
    "\n",
    "# Fill Missing Values:\n",
    "    #Specific Value\n",
    "df['Age'].fillna(0, inplace=True)\n",
    "    #Mean\n",
    "df['Age'].fillna(df['Age'].mean(), inplace=True)\n",
    "    #Propagates the last valid observation forward to the next missing value\n",
    "df['Age'].fillna(method='ffill', inplace=True) \n",
    "    #Propagates the next valid observation backward to the previous missing value:\n",
    "df['Age'].fillna(method=\"bfill\", inplace=True)\n",
    "    #Fill with Median\n",
    "df['Age'].fillna(df['Age'].median(), inplace=True)\n",
    "    #Fill with Mode (fréquence absolue la plus élevée)\n",
    "df['Age'].fillna(df['Age'].mode()[0], inplace=True)\n",
    "    # Interpolate Missing Values\n",
    "df['Age'].interpolate(method='linear', inplace=True)\n",
    "    # Fill with Group-specific Values\n",
    "df['Age'] = df.groupby('Gender')['Age'].transform(lambda x: x.fillna(x.mean()))\n"
   ]
  },
  {
   "cell_type": "markdown",
   "id": "918fc4c7",
   "metadata": {},
   "source": [
    "- Removing Duplicates"
   ]
  },
  {
   "cell_type": "code",
   "execution_count": null,
   "id": "ac750420",
   "metadata": {},
   "outputs": [],
   "source": [
    "#Drop Duplicate Rows\n",
    "df.drop_duplicates(inplace=True)"
   ]
  },
  {
   "cell_type": "markdown",
   "id": "29d2192b",
   "metadata": {},
   "source": [
    "## Data Transformation"
   ]
  },
  {
   "cell_type": "code",
   "execution_count": null,
   "id": "63959ced",
   "metadata": {},
   "outputs": [],
   "source": [
    "#Filtering Data\n",
    "df_filtered = df[df['Age']>30]\n",
    "\n",
    "#Sorting Data\n",
    "df_sorted = df.sort_values(by='Age', ascending=False)\n",
    "\n",
    "#Grouping Data\n",
    "df_grouped = df.groupby('City')['Age'].mean()"
   ]
  },
  {
   "cell_type": "markdown",
   "id": "984e7acc",
   "metadata": {},
   "source": [
    "## Merging and Joining"
   ]
  },
  {
   "cell_type": "code",
   "execution_count": null,
   "id": "4f510920",
   "metadata": {},
   "outputs": [],
   "source": [
    "# Merging DataFrames\n",
    "df_merged = pd.merge(df1, df2, on='Key_Column', how='inner')\n",
    "\n",
    "#Concatenating Data Frames\n",
    "df_concat = pd.concat([df1, df2], axis=0)  # Vertical stacking\n",
    "df_concat = pd.concat([df1, df2], axis=1)  # Horizontal merging"
   ]
  },
  {
   "cell_type": "markdown",
   "id": "f48f5059",
   "metadata": {},
   "source": [
    "## Example Use Case"
   ]
  },
  {
   "cell_type": "code",
   "execution_count": null,
   "id": "0b861d6e",
   "metadata": {},
   "outputs": [],
   "source": [
    "#Analyzing Sales Data\n",
    "sales_df = pd.read_csv('sales_data.csv')\n",
    "\n",
    "#Calculate total sales per product\n",
    "total_sales = sales_df.groupby('Product')['Revenue'].sum()\n",
    "\n",
    "#Filter products with sales over 10 000$\n",
    "high_sales = total_sales[total_sales > 10000]"
   ]
  },
  {
   "cell_type": "markdown",
   "id": "48ce8ff1",
   "metadata": {},
   "source": [
    "# Data Visualization with Matplotlib and Seaborn"
   ]
  },
  {
   "cell_type": "markdown",
   "id": "ffdd07f0",
   "metadata": {},
   "source": [
    "## Importing Matplotlib"
   ]
  },
  {
   "cell_type": "code",
   "execution_count": 2,
   "id": "28af7b47",
   "metadata": {},
   "outputs": [],
   "source": [
    "import matplotlib.pyplot as plt"
   ]
  },
  {
   "cell_type": "markdown",
   "id": "0350fba2",
   "metadata": {},
   "source": [
    "## Creating Basic Plots"
   ]
  },
  {
   "cell_type": "code",
   "execution_count": 3,
   "id": "4c8dd634",
   "metadata": {},
   "outputs": [
    {
     "data": {
      "image/png": "[encoded data removed]",
      "text/plain": [
       "<Figure size 640x480 with 1 Axes>"
      ]
     },
     "metadata": {},
     "output_type": "display_data"
    }
   ],
   "source": [
    "# Line Plot\n",
    "x = [1, 2, 3, 4]\n",
    "y = [10, 20, 25, 30]\n",
    "plt.plot(x,y,marker='o')\n",
    "plt.title('Line Plot Example')\n",
    "plt.xlabel('X-axis')\n",
    "plt.ylabel('Y-axis')\n",
    "plt.grid(True)\n",
    "plt.show()"
   ]
  },
  {
   "cell_type": "code",
   "execution_count": 4,
   "id": "838aeb5d",
   "metadata": {},
   "outputs": [
    {
     "data": {
      "image/png": "[encoded data removed]",
      "text/plain": [
       "<Figure size 640x480 with 1 Axes>"
      ]
     },
     "metadata": {},
     "output_type": "display_data"
    }
   ],
   "source": [
    "#Bar Chart\n",
    "categories = ['A', 'B', 'C']\n",
    "values = [10, 15, 7]\n",
    "plt.bar(categories, values, color='skyblue')\n",
    "plt.title('Bar Chart Example')\n",
    "plt.show()"
   ]
  },
  {
   "cell_type": "code",
   "execution_count": 7,
   "id": "0c2c4434",
   "metadata": {},
   "outputs": [
    {
     "data": {
      "image/png": "[encoded data removed]",
      "text/plain": [
       "<Figure size 640x480 with 1 Axes>"
      ]
     },
     "metadata": {},
     "output_type": "display_data"
    }
   ],
   "source": [
    "#Histogram:\n",
    "data = np.random.randn(1000)\n",
    "plt.hist(data, bins=30, color='green', edgecolor='black')\n",
    "plt.title('Histogram Example')\n",
    "plt.show()"
   ]
  },
  {
   "cell_type": "markdown",
   "id": "c49aa3ee",
   "metadata": {},
   "source": [
    "## Importing Seaborn"
   ]
  },
  {
   "cell_type": "code",
   "execution_count": 8,
   "id": "950bf9b3",
   "metadata": {},
   "outputs": [],
   "source": [
    "import seaborn as sns"
   ]
  },
  {
   "cell_type": "markdown",
   "id": "3af92898",
   "metadata": {},
   "source": [
    "## Creating Statistical Plots"
   ]
  },
  {
   "cell_type": "code",
   "execution_count": 16,
   "id": "0453a042",
   "metadata": {},
   "outputs": [
    {
     "data": {
      "image/png": "[encoded data removed]",
      "text/plain": [
       "<Figure size 640x480 with 1 Axes>"
      ]
     },
     "metadata": {},
     "output_type": "display_data"
    }
   ],
   "source": [
    "#Scatter Plot\n",
    "data = {'total_bill': [100, 150, 300, 200, 120,160,140,210,240,130,170],\n",
    "        'tip': [28, 24, 35, 32, 40,35,20,18,25,28,24]}\n",
    "\n",
    "df = pd.DataFrame(data)\n",
    "df\n",
    "\n",
    "sns.scatterplot(x='total_bill', y='tip', data=df)\n",
    "plt.title('Scatter Plot Example')\n",
    "plt.show()"
   ]
  },
  {
   "cell_type": "code",
   "execution_count": 19,
   "id": "ac5c010b",
   "metadata": {},
   "outputs": [
    {
     "data": {
      "image/png": "[encoded data removed]",
      "text/plain": [
       "<Figure size 640x480 with 1 Axes>"
      ]
     },
     "metadata": {},
     "output_type": "display_data"
    }
   ],
   "source": [
    "#Box Plot\n",
    "data = {'total_bill': [100, 150, 300,200,400,250],\n",
    "        'day': [\"Lundi\", \"Mardi\", \"Mercredi\",\"Lundi\", \"Mardi\", \"Mercredi\"]}\n",
    "\n",
    "df = pd.DataFrame(data)\n",
    "df\n",
    "sns.boxplot(x='day', y='total_bill', data=df)\n",
    "plt.title('Box Plot Example')\n",
    "plt.show()"
   ]
  },
  {
   "cell_type": "code",
   "execution_count": 20,
   "id": "88717ef4",
   "metadata": {},
   "outputs": [
    {
     "data": {
      "image/png": "[encoded data removed]",
      "text/plain": [
       "<Figure size 640x480 with 2 Axes>"
      ]
     },
     "metadata": {},
     "output_type": "display_data"
    }
   ],
   "source": [
    "# Heatmap\n",
    "data = {'total_bill': [100, 150, 300, 200, 120,160,140,210,240,130,170],\n",
    "        'tip': [28, 24, 35, 32, 40,35,20,18,25,28,24]}\n",
    "\n",
    "df = pd.DataFrame(data)\n",
    "df\n",
    "correlation = df.corr()\n",
    "sns.heatmap(correlation, annot=True, cmap='coolwarm')\n",
    "plt.title('Heatmap Example')\n",
    "plt.show()"
   ]
  },
  {
   "cell_type": "markdown",
   "id": "bef2f723",
   "metadata": {},
   "source": [
    "## Example Use Case"
   ]
  },
  {
   "cell_type": "code",
   "execution_count": null,
   "id": "41f38506",
   "metadata": {},
   "outputs": [],
   "source": [
    "# Visualizing Age Distribution\n",
    "sns.histplot(df['Age'], kde=True, bins=20)\n",
    "plt.title('Age Distribution')\n",
    "plt.xlabel('Age')\n",
    "plt.ylabel('Frequency')\n",
    "plt.show()"
   ]
  },
  {
   "cell_type": "code",
   "execution_count": null,
   "id": "ca4d9771",
   "metadata": {},
   "outputs": [],
   "source": [
    "#Comparing Categories:\n",
    "sns.countplot(x='Gender', data=df)\n",
    "plt.title('Gender Distribution')\n",
    "plt.xlabel('Gender')\n",
    "plt.ylabel('Count')\n",
    "plt.show()"
   ]
  },
  {
   "cell_type": "markdown",
   "id": "5653c62a",
   "metadata": {},
   "source": [
    "# Methodology for Data Preparation, Cleaning and Preprocessing\n",
    "Proper data preparation is crucial for accurate analysis.\n",
    "## Step 1: Understand Data\n",
    "Know your data : \n",
    "- Data Sources: Identify where the data comes from.\n",
    "- Data Structure: Understand the format(CSV, Excel, JSON)\n",
    "- Data Dictionary: Review documentation for variable descriptions.\n",
    "\n",
    "## Step 2: Data Collection\n",
    "- Import Data"
   ]
  },
  {
   "cell_type": "code",
   "execution_count": null,
   "id": "5a2bc35a",
   "metadata": {},
   "outputs": [],
   "source": [
    "df = pd.read_csv('data.csv')               # CSV files\n",
    "df = pd.read_excel('data.xlsx')            # Excel files\n",
    "df = pd.read_json('data.json')             # JSON files"
   ]
  },
  {
   "cell_type": "markdown",
   "id": "969e2572",
   "metadata": {},
   "source": [
    "## Step 3: Initial Data Inspection\n",
    "- Preview Data:"
   ]
  },
  {
   "cell_type": "code",
   "execution_count": null,
   "id": "64c72052",
   "metadata": {},
   "outputs": [],
   "source": [
    "print(df.head())\n",
    "print(df.tail())"
   ]
  },
  {
   "cell_type": "markdown",
   "id": "f66386ac",
   "metadata": {},
   "source": [
    "- Data Summary:"
   ]
  },
  {
   "cell_type": "code",
   "execution_count": null,
   "id": "a8aea8ca",
   "metadata": {},
   "outputs": [],
   "source": [
    "df.info()\n",
    "df.describe(include=\"all\")"
   ]
  },
  {
   "cell_type": "markdown",
   "id": "6f347deb",
   "metadata": {},
   "source": [
    "## Step 4: Data Cleaning"
   ]
  },
  {
   "cell_type": "markdown",
   "id": "4bedd815",
   "metadata": {},
   "source": [
    "### Handling Missing Values:\n",
    "- Identify Missing Data:"
   ]
  },
  {
   "cell_type": "code",
   "execution_count": null,
   "id": "2ba8ae71",
   "metadata": {},
   "outputs": [],
   "source": [
    "missing_values = df.isnull().sum()"
   ]
  },
  {
   "cell_type": "markdown",
   "id": "cb8e7570",
   "metadata": {},
   "source": [
    "- Decide on Strategy:"
   ]
  },
  {
   "cell_type": "code",
   "execution_count": null,
   "id": "9ac19b21",
   "metadata": {},
   "outputs": [],
   "source": [
    "#Drop Rows/Columns:\n",
    "df.dropna(axis=0, how=\"any\", inplace=True)\n",
    "#Impute Missing Data\n",
    "df[\"Age\"].fillna(df[\"Age\"].median(), inplace=True)\n",
    "df[\"City\"].fillna(\"Unknown\", inplace=True)"
   ]
  },
  {
   "cell_type": "markdown",
   "id": "01bf8daf",
   "metadata": {},
   "source": [
    "### Handling Duplicates"
   ]
  },
  {
   "cell_type": "markdown",
   "id": "c2950ac8",
   "metadata": {},
   "source": [
    "- Find and Remove Duplicates:"
   ]
  },
  {
   "cell_type": "code",
   "execution_count": null,
   "id": "736d205e",
   "metadata": {},
   "outputs": [],
   "source": [
    "duplicates = df.duplicated()\n",
    "df.drop_duplicates(inplace=True)"
   ]
  },
  {
   "cell_type": "markdown",
   "id": "76c6c915",
   "metadata": {},
   "source": [
    "## Step 5: Data Transformation\n",
    "### Data Type Conversion\n",
    "- Convert Data Types:"
   ]
  },
  {
   "cell_type": "code",
   "execution_count": null,
   "id": "c2fb1478",
   "metadata": {},
   "outputs": [],
   "source": [
    "df[\"Date\"] = pd.to_datetime(df[\"Date\"])\n",
    "df[\"Price\"] = df[\"Price\"].astype(float)"
   ]
  },
  {
   "cell_type": "markdown",
   "id": "f42ef444",
   "metadata": {},
   "source": [
    "### Feature Engineering\n",
    "- Create New Features:"
   ]
  },
  {
   "cell_type": "code",
   "execution_count": null,
   "id": "3d45b565",
   "metadata": {},
   "outputs": [],
   "source": [
    "df[\"Total_Cost\"] = df[\"Quantity\"] * df[\"Unit_Price\"]"
   ]
  },
  {
   "cell_type": "markdown",
   "id": "8e8059cc",
   "metadata": {},
   "source": [
    "- Extract Features from Dates"
   ]
  },
  {
   "cell_type": "code",
   "execution_count": null,
   "id": "187d094b",
   "metadata": {},
   "outputs": [],
   "source": [
    "df[\"Year\"] = df[\"Dates\"].dt.year\n",
    "df[\"Month\"] = df[\"Dates\"].dt.month\n",
    "df[\"day\"] = df[\"Dates\"].dt.day"
   ]
  },
  {
   "cell_type": "markdown",
   "id": "c4736166",
   "metadata": {},
   "source": [
    "## Step 6: Handling Outliers\n",
    "- Detect Outliers:"
   ]
  },
  {
   "cell_type": "code",
   "execution_count": null,
   "id": "4ec4c299",
   "metadata": {},
   "outputs": [],
   "source": [
    "sns.bloxplot(x=df[\"Salary\"])\n",
    "plt.show()"
   ]
  },
  {
   "cell_type": "markdown",
   "id": "1f8a0b81",
   "metadata": {},
   "source": [
    "- Treat Outliers:"
   ]
  },
  {
   "cell_type": "code",
   "execution_count": null,
   "id": "3c0a73b1",
   "metadata": {},
   "outputs": [],
   "source": [
    "# Remove Outliers\n",
    "Q1 = df[\"Salary\"].quantile(0.25)\n",
    "Q3 = df[\"Salary\"].quantile(0.75)\n",
    "IQR = Q3-Q1\n",
    "df = df[(df[\"Salary\"]>= Q1 - 1.5 * IQR) & (df[\"Salary\"] <= Q3*1.5*IQR)]"
   ]
  },
  {
   "cell_type": "markdown",
   "id": "2bf78470",
   "metadata": {},
   "source": [
    "## Step 7: Encoding Categorical Variables\n",
    "- Label Encoding: Cette méthode consiste à attribuer une valeur numérique unique à chaque catégorie. Chaque catégorie est simplement remplacée par un entier. Les catégories sont généralement encodées par un ordre numérique croissant."
   ]
  },
  {
   "cell_type": "code",
   "execution_count": null,
   "id": "9721b9c2",
   "metadata": {},
   "outputs": [],
   "source": [
    "from sklearn.preprocessing import LabelEncoder\n",
    "le = LabelEncoder()\n",
    "df[\"Gender_Code\"] = le.fit_transform(df[\"Gender\"])"
   ]
  },
  {
   "cell_type": "markdown",
   "id": "3e4188f2",
   "metadata": {},
   "source": [
    "- One Hot Encoding : Cette méthode transforme chaque catégorie en une nouvelle colonne binaire (0 ou 1). Si une donnée appartient à une certaine catégorie, le 1 est placé dans la colonne correspondante, tandis que les autres colonnes auront une valeur de 0."
   ]
  },
  {
   "cell_type": "code",
   "execution_count": null,
   "id": "bbb1f03e",
   "metadata": {},
   "outputs": [],
   "source": [
    "df = pd.get_dummies(df, columns=['City'], drop_first=True)"
   ]
  },
  {
   "cell_type": "markdown",
   "id": "f3a79524",
   "metadata": {},
   "source": [
    "## Step 8: Feature Scaling\n",
    "- Normalization (Min-Max Scaling): Le MinMaxScaler normalise les données en les redimensionnant pour qu'elles soient dans une plage spécifiée, généralement entre 0 et 1. Cela garantit que toutes les valeurs sont proportionnellement redimensionnées par rapport à la plage minimale et maximale des données (Moins sensible aux outliers que StandardScaler, bien que les valeurs extrêmes aient toujours une influence)\n",
    "- Pour ? réseaux neuronaux et K-means"
   ]
  },
  {
   "cell_type": "code",
   "execution_count": null,
   "id": "80516bb9",
   "metadata": {},
   "outputs": [],
   "source": [
    "from sklearn.preprocessing import MinMaxScaler\n",
    "scaler = MinMaxScaler()\n",
    "df[[\"Age_Normalized\"]] = scaler.fit_transform(df[[\"Age\"]])"
   ]
  },
  {
   "cell_type": "markdown",
   "id": "d6a42458",
   "metadata": {},
   "source": [
    "- Standardization (Z-score Scaling): Le StandardScaler standardise les données en les centrant autour de la moyenne et en les redimensionnant pour avoir un écart-type de 1. Cela transforme les données pour qu'elles aient une distribution normale centrée sur 0.\n",
    "- Pour ? les modèles qui supposent des données centrées et normales"
   ]
  },
  {
   "cell_type": "code",
   "execution_count": null,
   "id": "8efd6fd3",
   "metadata": {},
   "outputs": [],
   "source": [
    "from sklearn.preprocessing import StandardScaler\n",
    "scaler = StandardScaler()\n",
    "df[[\"Age_Standardized\"]] = scaler.fit_transform(df[[\"Age\"]])"
   ]
  },
  {
   "cell_type": "markdown",
   "id": "1778bfdd",
   "metadata": {},
   "source": [
    "## Step 9: Data Integration\n",
    "- Merging DataFrames"
   ]
  },
  {
   "cell_type": "code",
   "execution_count": null,
   "id": "3fbacf9a",
   "metadata": {},
   "outputs": [],
   "source": [
    "df_final = pd.merge(df_customers, df_orders, on=\"Customer_ID\", how=\"inner\")"
   ]
  },
  {
   "cell_type": "markdown",
   "id": "c59212a4",
   "metadata": {},
   "source": [
    "- Concatenating DataFrames:"
   ]
  },
  {
   "cell_type": "code",
   "execution_count": null,
   "id": "2388b9d5",
   "metadata": {},
   "outputs": [],
   "source": [
    "df_total = pd.concat([df_2020,df_2021], ignore_index=True)"
   ]
  },
  {
   "cell_type": "markdown",
   "id": "f53922db",
   "metadata": {},
   "source": [
    "## Step 10: Final Data Check and Export"
   ]
  },
  {
   "cell_type": "markdown",
   "id": "4c25a4cc",
   "metadata": {},
   "source": [
    "- Validate Data:"
   ]
  },
  {
   "cell_type": "code",
   "execution_count": 25,
   "id": "55488524",
   "metadata": {},
   "outputs": [
    {
     "name": "stdout",
     "output_type": "stream",
     "text": [
      "total_bill    int64\n",
      "tip           int64\n",
      "dtype: object\n"
     ]
    }
   ],
   "source": [
    "# Check for Consistency:\n",
    "assert df.notnull().all().all()\n",
    "\n",
    "#Review Data Types:\n",
    "print(df.dtypes)"
   ]
  },
  {
   "cell_type": "markdown",
   "id": "a5f25e1d",
   "metadata": {},
   "source": [
    "- Export Cleaned Data:"
   ]
  },
  {
   "cell_type": "code",
   "execution_count": null,
   "id": "c82f2d27",
   "metadata": {},
   "outputs": [],
   "source": [
    "df.to_csv('cleaned_data.csv', index=False)"
   ]
  },
  {
   "cell_type": "markdown",
   "id": "50442f96",
   "metadata": {},
   "source": [
    "# Example Workflow\n",
    "Below is an example of applying the methodo"
   ]
  },
  {
   "cell_type": "code",
   "execution_count": null,
   "id": "cf759d50",
   "metadata": {},
   "outputs": [],
   "source": [
    "import pandas as pd\n",
    "import numpy as np\n",
    "import matplotlib.pyplot as plt\n",
    "import seaborn as sns\n",
    "\n",
    "# Step 1: Import Data\n",
    "df = pd.read_csv('employee_data.csv')\n",
    "\n",
    "# Step 2: Initial Inspection\n",
    "print(df.head())\n",
    "print(df.info())\n",
    "\n",
    "# Step 3: Handle Missing Values\n",
    "# Fill missing ages with median age\n",
    "df['Age'].fillna(df['Age'].median(), inplace=True)\n",
    "\n",
    "# Fill missing salaries with mean salary\n",
    "df['Salary'].fillna(df['Salary'].mean(), inplace=True)\n",
    "\n",
    "# Step 4: Remove Duplicates\n",
    "df.drop_duplicates(inplace=True)\n",
    "\n",
    "# Step 5: Convert Data Types\n",
    "df['Hire_Date'] = pd.to_datetime(df['Hire_Date'])\n",
    "\n",
    "# Step 6: Feature Engineering\n",
    "df['Years_Employed'] = 2023 - df['Hire_Date'].dt.year\n",
    "\n",
    "# Step 7: Handle Outliers in Salary\n",
    "Q1 = df['Salary'].quantile(0.25)\n",
    "Q3 = df['Salary'].quantile(0.75)\n",
    "IQR = Q3 - Q1\n",
    "df = df[(df['Salary'] >= Q1 - 1.5 * IQR) & (df['Salary'] <= Q3 + 1.5 * IQR)]\n",
    "\n",
    "# Step 8: Encode Categorical Variables\n",
    "df = pd.get_dummies(df, columns=['Department'], drop_first=True)\n",
    "\n",
    "# Step 9: Feature Scaling\n",
    "from sklearn.preprocessing import MinMaxScaler\n",
    "scaler = MinMaxScaler()\n",
    "df[['Salary_Scaled']] = scaler.fit_transform(df[['Salary']])\n",
    "\n",
    "# Step 10: Final Check and Export\n",
    "print(df.info())\n",
    "df.to_csv('employee_data_cleaned.csv', index=False)"
   ]
  }
 ],
 "metadata": {
  "kernelspec": {
   "display_name": "Python 3 (ipykernel)",
   "language": "python",
   "name": "python3"
  },
  "language_info": {
   "codemirror_mode": {
    "name": "ipython",
    "version": 3
   },
   "file_extension": ".py",
   "mimetype": "text/x-python",
   "name": "python",
   "nbconvert_exporter": "python",
   "pygments_lexer": "ipython3",
   "version": "3.11.4"
  }
 },
 "nbformat": 4,
 "nbformat_minor": 5
}
