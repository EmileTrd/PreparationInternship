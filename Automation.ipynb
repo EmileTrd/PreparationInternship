{
 "cells": [
  {
   "cell_type": "markdown",
   "id": "bb53d8b4",
   "metadata": {},
   "source": [
    "# Module 1: File Handling and Manipulation in Python"
   ]
  },
  {
   "cell_type": "markdown",
   "id": "44aff46f",
   "metadata": {},
   "source": [
    "### Learning Objectives:\n",
    "- Understand the basics of file operations in Python such as reading, writing and appending data to files\n",
    "- Work with various file types including text files, CSVs, Excel files, PDFs and Word Document\n",
    "- Automate file processing tasks for real-world applications"
   ]
  },
  {
   "cell_type": "markdown",
   "id": "c5b19625",
   "metadata": {},
   "source": [
    "## 1.1 Introduction to File Handling in Python\n",
    "### Overview : \n",
    "In this section, you will learn how to perform basic file operations using Python's built-in functions. Understanding how to open, read, write, and append files is fundamental when working with data processing and automation.\n",
    "\n",
    "### Topics :\n",
    "- Opening Files :  \n",
    "Python provides a simple way top openfiles using the buil-in open() function. You can specify the mode in which the file is opened:\n",
    "    - 'r': Read mode (default)\n",
    "    - 'w': Write mode (overwrites the existing file or create a new one).\n",
    "    - 'a': Append mode (adds new content to the end of the file).\n",
    "    - 'b': Binary mode (used for non-text files, such as images).\n",
    "- Reading Files:  "
   ]
  },
  {
   "cell_type": "code",
   "execution_count": null,
   "id": "742cad7f",
   "metadata": {},
   "outputs": [],
   "source": [
    "# Learn how to read the entire content of a life or specific lines:\n",
    "with open('example.txt','r') as file:\n",
    "    content = file.read()\n",
    "    print(content)"
   ]
  },
  {
   "cell_type": "markdown",
   "id": "4c26c352",
   "metadata": {},
   "source": [
    "- Writing and Appending to Files:  "
   ]
  },
  {
   "cell_type": "code",
   "execution_count": 1,
   "id": "2918e6fc",
   "metadata": {},
   "outputs": [],
   "source": [
    "# Writing to a file creates or repaces the content\n",
    "with open(\"example.txt\", 'w') as file:\n",
    "    file.write('Hello, world!')\n",
    "\n",
    "# Appending adds to an existing file without deleting previous content:\n",
    "with open(\"example.txt\", 'a') as file:\n",
    "    file.write(\"\\nThis is a new line.\")"
   ]
  },
  {
   "cell_type": "markdown",
   "id": "bfdff57e",
   "metadata": {},
   "source": [
    "- Error Handling in File Operations: https://pythonbasics.org/try-except/"
   ]
  },
  {
   "cell_type": "code",
   "execution_count": 2,
   "id": "c0f018c0",
   "metadata": {},
   "outputs": [
    {
     "name": "stdout",
     "output_type": "stream",
     "text": [
      "File not found!\n"
     ]
    }
   ],
   "source": [
    "\"\"\" To avoid common issues such as trying to open a non-existent file,\n",
    "you will learn to use try-expect blocjs for error handling:\"\"\"\n",
    "\n",
    "try:\n",
    "    with open('nonexistent.txt', 'r') as file:\n",
    "        content = file.read()\n",
    "except FileNotFoundError:\n",
    "    print('File not found!')"
   ]
  },
  {
   "cell_type": "markdown",
   "id": "df8912db",
   "metadata": {},
   "source": [
    "## 1.2 Working with CSV Files:\n",
    "### Overview:\n",
    "CSV (Comma Separated Values) files are commonly used for storing tabular data. Python's pandas library makes it easy to work with CSV files by offering powerful tools for reading, writing and manipulating this data format"
   ]
  },
  {
   "cell_type": "markdown",
   "id": "1b565386",
   "metadata": {},
   "source": [
    "### Topics:\n",
    "- Reading CSV Files with pandas:"
   ]
  },
  {
   "cell_type": "code",
   "execution_count": null,
   "id": "377f2166",
   "metadata": {},
   "outputs": [],
   "source": [
    "# Using pandas, you can load a CSV file into a DataFrame:\n",
    "import pandas as pd\n",
    "\n",
    "df = pd.read_csv('data.csv')\n",
    "print(df.head())"
   ]
  },
  {
   "cell_type": "markdown",
   "id": "c6545df8",
   "metadata": {},
   "source": [
    "- Modifying Data in a DataFrame:\n"
   ]
  },
  {
   "cell_type": "code",
   "execution_count": null,
   "id": "1b546c63",
   "metadata": {},
   "outputs": [],
   "source": [
    "# Learn how to filter rows, update columns, and perform basic operations on CSV data:\n",
    "df[\"new_column\"] = df[\"existing_column\"]*2 # Create a new column based on existing data\n",
    "filtred_df = df[df[\"age\"]>30] #Filter rows based on a condition"
   ]
  },
  {
   "cell_type": "markdown",
   "id": "78b76d37",
   "metadata": {},
   "source": [
    "- Writing CSV Files:"
   ]
  },
  {
   "cell_type": "code",
   "execution_count": null,
   "id": "fdb0899a",
   "metadata": {},
   "outputs": [],
   "source": [
    "# After processing your data, you can save the modified DataFrame back to a CSV file:\n",
    "df.to_csv(\"modified_data.csv\", index=False)"
   ]
  },
  {
   "cell_type": "markdown",
   "id": "95b43bbc",
   "metadata": {},
   "source": [
    "## 1.3 Excel File Manipulation\n",
    "### Overview:\n",
    "Working with Excel files is essential in many business environments. Python's openpyxl and pandas libraries allow you to automate tasks like reading, writing and modifying Excel files."
   ]
  },
  {
   "cell_type": "markdown",
   "id": "86ef0d9e",
   "metadata": {},
   "source": [
    "### Topics: \n",
    "- Reading Excel Files:"
   ]
  },
  {
   "cell_type": "code",
   "execution_count": null,
   "id": "342e65ec",
   "metadata": {},
   "outputs": [],
   "source": [
    "# Use pandas to easily read Excel files into DataFrames:\n",
    "df = pd.read_excel('data.xlsx', sheet_name='Sheet1')\n",
    "print(df.head())"
   ]
  },
  {
   "cell_type": "markdown",
   "id": "1ff2e51a",
   "metadata": {},
   "source": [
    "- Modifying Excel Files with openpyxl:"
   ]
  },
  {
   "cell_type": "code",
   "execution_count": null,
   "id": "4e5631f9",
   "metadata": {},
   "outputs": [],
   "source": [
    "from openpyxl import load_workbook\n",
    "workbook = load_workbook('data.xlsx')\n",
    "sheet = workbook.active\n",
    "sheet[\"A1\"] = \"Updated Value\"\n",
    "workbook.save('data_modified.xlsx')"
   ]
  },
  {
   "cell_type": "markdown",
   "id": "4c4caef1",
   "metadata": {},
   "source": [
    "- Writing Excel Files"
   ]
  },
  {
   "cell_type": "code",
   "execution_count": null,
   "id": "e832f654",
   "metadata": {},
   "outputs": [],
   "source": [
    "df.to_excel('modified_data.xlsx', index=False)"
   ]
  },
  {
   "cell_type": "markdown",
   "id": "d38408c8",
   "metadata": {},
   "source": [
    "## 1.4 PDF and Word Documents\n",
    "### Overview:\n",
    "PDFs and Word documents are widely used for reports and contracts. Python libraries like PyPDF2, pdfplumber, and python-docx allow you to extract text from PDFs and automate the creation and modification of Word documents."
   ]
  },
  {
   "cell_type": "code",
   "execution_count": null,
   "id": "65045e0e",
   "metadata": {},
   "outputs": [],
   "source": [
    "\n",
    "\n",
    "\n",
    "\n",
    "\n",
    "\n",
    "\n",
    "\n",
    "\n"
   ]
  },
  {
   "cell_type": "markdown",
   "id": "91612348",
   "metadata": {},
   "source": [
    "# Module 2 : String Manipulation and Regular Expressions in Python\n",
    "### Learning Objectives:\n",
    "By the end of this module, you will be able to:\n",
    "- Understand and perform basic string manipulation using Python's built-in string methods\n",
    "- Apply advanced string processing techniquess using regular expressions (regex) for pattern matching and data extraction.\n",
    "- Use regular expressions to automate search-and-replace tasks and extract structurel information from unstructured text.\n",
    "## 2.1 Basic String Operations in Python\n",
    "### Overview: \n",
    "This sections introduces the basic string manipulation functions in Python, which are essential for text processing tasks such as formatting, searching and modifying strings.\n",
    "### Topics:\n",
    "- **String Creation and Access:**"
   ]
  },
  {
   "cell_type": "code",
   "execution_count": 6,
   "id": "b6cf69b8",
   "metadata": {},
   "outputs": [
    {
     "name": "stdout",
     "output_type": "stream",
     "text": [
      "H\n",
      "Hello\n"
     ]
    }
   ],
   "source": [
    "text = \"Hello, World!\"\n",
    "print(text[0]) # Output: \"H\"\n",
    "print(text[:5]) # Output: \"Hello\""
   ]
  },
  {
   "cell_type": "markdown",
   "id": "13918bdb",
   "metadata": {},
   "source": [
    "- **Common String Methods:**"
   ]
  },
  {
   "cell_type": "code",
   "execution_count": 7,
   "id": "dbc4107a",
   "metadata": {},
   "outputs": [
    {
     "name": "stdout",
     "output_type": "stream",
     "text": [
      "HELLO\n",
      "Hello\n",
      "Hi\n"
     ]
    }
   ],
   "source": [
    "# Change case\n",
    "text = \"hello\"\n",
    "print(text.upper()) # Output: \"HELLO\"\n",
    "print(text.capitalize()) # Output: \"Hello\"\n",
    "\n",
    "# Replace text\n",
    "new_text = text.replace('hello', \"Hi\")\n",
    "print(new_text) #Output: 'Hi'"
   ]
  },
  {
   "cell_type": "markdown",
   "id": "a88cfc99",
   "metadata": {},
   "source": [
    "- **String Formatting**"
   ]
  },
  {
   "cell_type": "code",
   "execution_count": 8,
   "id": "0485569e",
   "metadata": {},
   "outputs": [
    {
     "name": "stdout",
     "output_type": "stream",
     "text": [
      "My name is Alice and I am 30 years old\n"
     ]
    }
   ],
   "source": [
    "name = \"Alice\"\n",
    "age = 30\n",
    "message = f\"My name is {name} and I am {age} years old\"\n",
    "print(message)"
   ]
  },
  {
   "cell_type": "markdown",
   "id": "bb2cd759",
   "metadata": {},
   "source": [
    "- **Splitting and Joinin Strings:**"
   ]
  },
  {
   "cell_type": "code",
   "execution_count": 9,
   "id": "d32f9d04",
   "metadata": {},
   "outputs": [],
   "source": [
    "sentence = \"Python is great\"\n",
    "words = sentence.split()  # Output: ['Python', 'is', 'great']\n",
    "\n",
    "new_sentence = ' '.join(words)\n",
    "print(new_sentence)  # Output: 'Python is great'"
   ]
  },
  {
   "cell_type": "markdown",
   "id": "b647f292",
   "metadata": {},
   "source": [
    "## 2.2 Introduction to Regular Expressions (Regex)\n",
    "### Overview: \n",
    "Regular expressions, or regex, are powerful tools for pattern matching and searching within text. They are especially useful when working with complex patterns, such as validating email addresses, phone numbers, or extracting specific text from documents.\n",
    "### Topics :\n",
    "- **What are Regular Expressions ?**  \n",
    "Regular expressions define search patterns, which you can use to match string with certain characteristics. In Python, the re module allows you to use regular expressions:"
   ]
  },
  {
   "cell_type": "code",
   "execution_count": 12,
   "id": "a99b7969",
   "metadata": {},
   "outputs": [
    {
     "name": "stdout",
     "output_type": "stream",
     "text": [
      "Found SNN: 123-45-6788\n"
     ]
    }
   ],
   "source": [
    "import re\n",
    "\n",
    "pattern = r\"\\d{3}-\\d{2}-\\d{4}\" # Example : Social Security Number Pattern\n",
    "text = \"My SSN is 123-45-6789\"\n",
    "\n",
    "match = re.search(pattern, text)\n",
    "if match : \n",
    "    print(\"Found SNN:\", match.group())"
   ]
  },
  {
   "cell_type": "markdown",
   "id": "d06bebed",
   "metadata": {},
   "source": [
    "- **Basic Regular Expression Syntax:**\n",
    "    - \\d: Matches any digit (0-9)\n",
    "    - \\w: Matches any word character (a-z, A-Z, 0-9, _).\n",
    "    - .: Matches any character except a newline.\n",
    "    - +: Matches one or more occurrences of the preceding element.\n",
    "    - *: Matches zero or more occurrences of the preceding element.\n",
    "    - [ ]: Character class, matches any character in brackets.\n",
    "    - ^: Matches the start of a string.\n",
    "    - $: Matches the end of a string.\n",
    "- **Using re.search(), re.findall(), and re.sub():**\n",
    "    - re.search(): Seaches for a pattern and returns the first match\n",
    "    - re.findall(): Finds all occurences of the pattern in a string\n",
    "    - re.sub(): Substitutes matched patterns with a new string"
   ]
  },
  {
   "cell_type": "code",
   "execution_count": 16,
   "id": "6f5fd778",
   "metadata": {},
   "outputs": [
    {
     "name": "stdout",
     "output_type": "stream",
     "text": [
      "['500']\n"
     ]
    }
   ],
   "source": [
    "# Example: Finding all digits in a string\n",
    "text = \"The price is 500 dollars\"\n",
    "pattern = r\"\\d+\"\n",
    "matches = re.findall(pattern, text)\n",
    "print(matches)  # Output: ['500']"
   ]
  },
  {
   "cell_type": "markdown",
   "id": "894bb282",
   "metadata": {},
   "source": [
    "## 2.3 Advanced String Manipulation with Regular Expressions\n",
    "### Overview : \n",
    "In this section, you’ll learn how to use regular expressions to solve more complex string manipulation tasks, such as extracting structured data from unstructured text and performing search-and-replace tasks.\n",
    "### Topics: \n",
    "- **Extracting Structured Data with Regex:**\n",
    "Regular expressions are highly useful for extracting information from unstructured data like logs, documents, or large text files. You can define a pattern to extract specific information, such as dates, phone numbers, or names:"
   ]
  },
  {
   "cell_type": "code",
   "execution_count": 17,
   "id": "e8d26e10",
   "metadata": {},
   "outputs": [
    {
     "name": "stdout",
     "output_type": "stream",
     "text": [
      "Date: 2023-09-15\n",
      "Time: 10:00 AM\n"
     ]
    }
   ],
   "source": [
    "text = \"Meeting on 2023-09-15 at 10:00 AM.\"\n",
    "date_pattern = r\"\\d{4}-\\d{2}-\\d{2}\"\n",
    "time_pattern = r\"\\d{2}:\\d{2} (AM|PM)\"\n",
    "\n",
    "date_match = re.search(date_pattern, text)\n",
    "time_match = re.search(time_pattern, text)\n",
    "\n",
    "if date_match and time_match:\n",
    "    print(\"Date:\", date_match.group())\n",
    "    print(\"Time:\", time_match.group())"
   ]
  },
  {
   "cell_type": "markdown",
   "id": "c262c3f1",
   "metadata": {},
   "source": [
    "- **Regex Search and Replace:** Use re.sub() to perform search-and-replace operations in strings"
   ]
  },
  {
   "cell_type": "code",
   "execution_count": 19,
   "id": "0a3d1c6d",
   "metadata": {},
   "outputs": [
    {
     "name": "stdout",
     "output_type": "stream",
     "text": [
      "My old phone number is XXX-XXX-XXXX.\n"
     ]
    }
   ],
   "source": [
    "text = \"My old phone number is 123-456-7890.\"\n",
    "new_text = re.sub(r\"\\d{3}-\\d{3}-\\d{4}\",\"XXX-XXX-XXXX\", text)\n",
    "print(new_text)"
   ]
  },
  {
   "cell_type": "markdown",
   "id": "8ebb01a9",
   "metadata": {},
   "source": [
    "- **Grouping and Capturing:** Grouping allows you to caputre parts of the matched string. This is useful when you need to extract specific components from a pattern, like extracting the domain from an email"
   ]
  },
  {
   "cell_type": "code",
   "execution_count": 20,
   "id": "ff78d237",
   "metadata": {},
   "outputs": [
    {
     "name": "stdout",
     "output_type": "stream",
     "text": [
      "Username: user\n",
      "Domain: example.com\n"
     ]
    }
   ],
   "source": [
    "email = \"user@example.com\"\n",
    "pattern = r\"(\\w+)@(\\w+\\.\\w+)\"\n",
    "match = re.search(pattern, email)\n",
    "\n",
    "if match:\n",
    "    print(\"Username:\", match.group(1))\n",
    "    print(\"Domain:\", match.group(2))"
   ]
  },
  {
   "cell_type": "markdown",
   "id": "d9f72343",
   "metadata": {},
   "source": [
    "## 2.4 Automating Search-and-Replace in Large Text Files\n",
    "### Overview:\n",
    "In this section, you’ll learn how to automate search-and-replace tasks in large documents or logs, which is particularly useful for data cleaning and report generation.\n",
    "### Topics:\n",
    "- **Reading Large Files in Chunks:** When working with large files, reading the entire content into memory might not be feasible. You will learn how to process files line by line or in chunks to efficiently apply search and replace tasks:"
   ]
  },
  {
   "cell_type": "code",
   "execution_count": null,
   "id": "b733d216",
   "metadata": {},
   "outputs": [],
   "source": [
    "with open('large_text_file.txt', 'r') as file:\n",
    "    for line in file:\n",
    "        modified_line = re.sub(r'\\b(error)\\b', 'warning', line)\n",
    "    print(modified_line)\n",
    "    \n",
    "\"\"\" The \\b represents a word boundary in regular expressions\n",
    " which ensures that only the standalone word \"error\" is matched\n",
    " not a part of another word (like \"supererror\" or \"error123\")\"\"\""
   ]
  },
  {
   "cell_type": "markdown",
   "id": "70f1826f",
   "metadata": {},
   "source": [
    "- **Search and Replace in Files:** Automate replacing specific patterns across large files, such as changing specific terms, standardizing dates, or correcting formatting errors. This can be applied to lofs, documents or data files.\n",
    "- **Saving Modified Content:** After performing the search and replace operation, sace the modified content back to a file or generate a new file with the updates."
   ]
  },
  {
   "cell_type": "code",
   "execution_count": null,
   "id": "220fd97f",
   "metadata": {},
   "outputs": [],
   "source": [
    "with open(\"large_text_file.txt\", \"r\") as file, open(\"updated_file.txt\", 'w') as new_file:\n",
    "    for line in file:\n",
    "        modified_line = re.sub(r'\\b(old_word)\\b', \"new_word\", line)\n",
    "        new_file.write(modified_line)"
   ]
  },
  {
   "cell_type": "markdown",
   "id": "801f5ef3",
   "metadata": {},
   "source": [
    "# Module 3: Automating Document Modifications and Batch Processing in Python\n",
    "### Learning Objectives: \n",
    "- Automate repetitive tasks that involve handling multiple files.\n",
    "- Create scripts for batch processing of files such as CSVs, Excel, PDFs, and Word documents.\n",
    "- Implement error handling to ensure robustness in your automation scripts\n",
    "## 3.1 Automating File Processing\n",
    "### Overview: \n",
    "In this section, you'll learn how to automate the processing of multiple files in Python. Automating repetitive file-handling tasks saves time and effort, especially when working with large numbers of files or performing similar operations across files.\n",
    "### Topics\n",
    "- ***Using the os and glob Modules to Access Multiple Files:*** The os module allows you to interact with your operating system’s file system, while glob is used to find all the pathnames matching a specific pattern (e.g., all .csv or .txt files in a directory):"
   ]
  },
  {
   "cell_type": "code",
   "execution_count": 25,
   "id": "237a9ff4",
   "metadata": {},
   "outputs": [
    {
     "name": "stdout",
     "output_type": "stream",
     "text": [
      "Processing file: /Users/emiletardy/Desktop/Untitled1.ipynb\n",
      "Processing file: /Users/emiletardy/Desktop/Untitled.ipynb\n",
      "Processing file: /Users/emiletardy/Desktop/WebScrapping.ipynb\n",
      "Processing file: /Users/emiletardy/Desktop/PreparationOfData.ipynb\n"
     ]
    }
   ],
   "source": [
    "import os \n",
    "import glob\n",
    "\n",
    "# Get all CSV files in a directory\n",
    "csv_files = glob.glob('/Users/your_username/Desktop/*.ipynb')\n",
    "\n",
    "for file in csv_files:\n",
    "    print(f\"Processing file: {file}\")\n",
    "    \n"
   ]
  },
  {
   "cell_type": "markdown",
   "id": "39995d6f",
   "metadata": {},
   "source": [
    "- **Batch Processing Multiple Files:** You can automate the process of reading multiple files, performing operations (such as reading, updating, or writing back), and saving the results. This is helpful for tasks like applying the same format to multiple reports, cleaning up large datasets, or standardizing document formats."
   ]
  },
  {
   "cell_type": "code",
   "execution_count": null,
   "id": "084f0ecc",
   "metadata": {},
   "outputs": [],
   "source": [
    "import os\n",
    "import glob \n",
    "import pandas as pd\n",
    "\n",
    "# Specify the directory where your CSV files are stored (e.g. Desktop)\n",
    "directory = \"/Users/your_username/Desktop/\"\n",
    "\n",
    "# Get all CSV files in the directory\n",
    "csv_files = glob.glob(os.path.join(directory,\"*.csv\"))\n",
    "\n",
    "# Loop over each file and process it\n",
    "for file in csv_files:\n",
    "    # Read the CSV file into a DataFrame\n",
    "    df = pd.read_csv(file)\n",
    "    \n",
    "    # Example operation: Create a new column based on an existing column\n",
    "    df[\"New Column\"] = df[\"Existing Column\"]*2\n",
    "    \n",
    "    # Save the modified DataFrame to a new CSV file\n",
    "    # The new file will have a \"modified_\" prefix added to its original filename\n",
    "    new_filename = f\"modified_{os.path.basename(file)}\"\n",
    "    df.to_csv(os.path.join(directory,newfilename), index=False)\n",
    "    \n",
    "    #Print the progress\n",
    "    print(f\"Processed and saved: {new_filename}\")"
   ]
  },
  {
   "cell_type": "markdown",
   "id": "51d68d24",
   "metadata": {},
   "source": [
    "- **Reading and Writing Files in a Loop:** Here you’ll learn how to read each file in a directory, perform modifications, and write the results back to a new file or update the existing one."
   ]
  },
  {
   "cell_type": "code",
   "execution_count": null,
   "id": "c3c05771",
   "metadata": {},
   "outputs": [],
   "source": [
    "# Example: Reading and writing multiple CSV files\n",
    "import pandas as pd:\n",
    "\n",
    "for file in csv_files:\n",
    "    df = pd.read_csv(file)\n",
    "    #Perform some data manipulation\n",
    "    df[\"New Column\"] = df[\"Existing Column\"]*2\n",
    "    df.to_csv(f\"modified_{os.path.basename(file)}\", index=False)"
   ]
  },
  {
   "cell_type": "markdown",
   "id": "b73e91c3",
   "metadata": {},
   "source": [
    "## 3.2 Batch Modifications in Word and PDF Files\n",
    "### Overview:\n",
    "This section focuses on performing batch operations on Word and PDF files, such as inserting content, updating templates, or extracting text from multiple files at once. These tasks are common when generating reports or processing large numbers of documents.\n",
    "### Topics:\n",
    "- **Automating Word Document Updates:** Use the python-docx library to modify multiple Word files, such as adding headers/footers, inserting text, or filling in placeholders dynamically:\n"
   ]
  },
  {
   "cell_type": "code",
   "execution_count": null,
   "id": "5f23c5c5",
   "metadata": {},
   "outputs": [],
   "source": [
    "from docx import Document\n",
    "\n",
    "doc_files = glob.glob(\"\\Users\\your_username\\*.docx\")\n",
    "\n",
    "for doc_file in foc_files:\n",
    "    doc = Document(doc_file)\n",
    "    doc.add_paragraph(\"Automated addition to the document.\")\n",
    "    doc.save(f\"updated_{os.path.basename(doc_file)}\")"
   ]
  },
  {
   "cell_type": "markdown",
   "id": "1227d7e1",
   "metadata": {},
   "source": [
    "- **Automating PDF Modifications:** Use PyPDF2 to perform tasks like merging PDFs, extracting text, or adding watermarks to multiple PDF documents"
   ]
  },
  {
   "cell_type": "code",
   "execution_count": null,
   "id": "8e56a356",
   "metadata": {},
   "outputs": [],
   "source": [
    "from PyPDF2 import PdfReader, PdfWriter\n",
    "\n",
    "pdf_files = glob.glob(\"\\Users\\your_username\\Desktop\\*.pdf\")\n",
    "\n",
    "for pdf_file in pdf_files:\n",
    "    reader = PdfReader(pdf_file)\n",
    "    writer = PdfWriter()\n",
    "    \n",
    "    for page in reader.pages:\n",
    "        writer.add_page(page)\n",
    "    \n",
    "    with open(\"modified_{os.path.basename(pdf_file)}\", \"wb\") as f_out:\n",
    "        writer.write(f_out)"
   ]
  },
  {
   "cell_type": "markdown",
   "id": "7db2c495",
   "metadata": {},
   "source": [
    "## 3.3 Combining Data from Multiple Files\n",
    "### Overview:\n",
    "In many cases, you will need to aggregate data from multiple files into a single file for analysis or reporting. This section will teach you how to combine and merge data from CSVs, Excel sheets, and other formats.\n",
    "### Topics:\n",
    "- **Merging Multiple CSV Files:** Learn to concatenate and merge data from multiple CSV files into one master file:"
   ]
  },
  {
   "cell_type": "code",
   "execution_count": null,
   "id": "efe11480",
   "metadata": {},
   "outputs": [],
   "source": [
    "import pandas as pd\n",
    "\n",
    "all_data = pd.DataFrame()\n",
    "\n",
    "for file in csv_files:\n",
    "    df = pd.read_csv(file)\n",
    "    all_data = pd.concat([all_data,df])\n",
    "\n",
    "all_data.to_csv('combined_data.csv',index=False)"
   ]
  },
  {
   "cell_type": "markdown",
   "id": "7f19c4ce",
   "metadata": {},
   "source": [
    "- **Combining Excel Sheets:** Use pandas to combine multiple sheets from different Excel files into one comprehensive file:"
   ]
  },
  {
   "cell_type": "code",
   "execution_count": null,
   "id": "7f847c05",
   "metadata": {},
   "outputs": [],
   "source": [
    "all_sheets = pd.DataFrame()\n",
    "\n",
    "excel_files = glob.glob('path/to/excel/files/*.xlsx')\n",
    "\n",
    "for file in excel_files:\n",
    "    df = pd.read_excel(file, sheet_name='Sheet1')\n",
    "    all_sheets = pd.concat([all_sheets, df])\n",
    "\n",
    "all_sheets.to_excel('combined_sheets.xlsx', index=False)"
   ]
  },
  {
   "cell_type": "markdown",
   "id": "caa08278",
   "metadata": {},
   "source": [
    "- **Extracting and Combining Text from PDFs:** You can extract and combine text from multiple PDFs into a single text file, which is usefule for text analysis or summarization:"
   ]
  },
  {
   "cell_type": "code",
   "execution_count": null,
   "id": "5c1f1c80",
   "metadata": {},
   "outputs": [],
   "source": [
    "from PyPDF2 import PdfReader\n",
    "\n",
    "combined_text = \"\"\n",
    "\n",
    "for pdf_file in pdf_files:\n",
    "    reader = PdfReader(pdf_file)\n",
    "    for page in reader.pages:\n",
    "        combined_text += page.extract_text()\n",
    "\n",
    "with open(\"combined_text.txt\", \"w\") as f_out:\n",
    "    f_out.write(combined_text)"
   ]
  },
  {
   "cell_type": "markdown",
   "id": "8573da21",
   "metadata": {},
   "source": [
    "## 3.4 Error Handling in Batch Processing\n",
    "### Overview:\n",
    "When automating batch processes, errors can occur, such as file not found, invalid file formats, or incomplete data. This section will teach you how to handle such errors gracefully to ensure your automation is robust and continues running even when encountering problems.\n",
    "### Topics:\n",
    "- **Basic Error Handling with Try-Except:** Learn to catch and handle errors when processing files using try-except blocks. This prevents the program from crashing when it encounters an error:"
   ]
  },
  {
   "cell_type": "code",
   "execution_count": null,
   "id": "a9a3a8a3",
   "metadata": {},
   "outputs": [],
   "source": [
    "try:\n",
    "    with open('non_existent_file.csv', 'r') as file:\n",
    "        content = file.read()\n",
    "except FileNotFoundError:\n",
    "    print(\"The file was not found.\")"
   ]
  },
  {
   "cell_type": "markdown",
   "id": "f4f611b0",
   "metadata": {},
   "source": [
    "- **Logging Errors for Debugging:** Use Python’s logging module to track errors and issues while running batch processes. This helps you log important information without interrupting the flow of the script:"
   ]
  },
  {
   "cell_type": "code",
   "execution_count": 27,
   "id": "ae596737",
   "metadata": {},
   "outputs": [],
   "source": [
    "import logging\n",
    "\n",
    "logging.basicConfig(filename='process.log', level=logging.ERROR)\n",
    "\n",
    "try:\n",
    "    # Some file operation\n",
    "    with open('example.csv', 'r') as file:\n",
    "        content = file.read()\n",
    "except Exception as e:\n",
    "    logging.error(f\"An error occurred: {e}\")"
   ]
  },
  {
   "cell_type": "markdown",
   "id": "752616b8",
   "metadata": {},
   "source": [
    "- **Skipping Files with Errors:** When processing many files, you might want to skip problematic files without stopping the entire script. This can be done using continue within a try-except block:"
   ]
  },
  {
   "cell_type": "code",
   "execution_count": null,
   "id": "891e6e41",
   "metadata": {},
   "outputs": [],
   "source": [
    "for file in csv_files:\n",
    "    try:\n",
    "        df = pd.read_csv(file)\n",
    "        # Perform data manipulation\n",
    "    except Exception as e:\n",
    "        logging.error(f\"Error with file {file}: {e}\")\n",
    "        continue  # Skip to the next file"
   ]
  },
  {
   "cell_type": "markdown",
   "id": "bac1c9f5",
   "metadata": {},
   "source": [
    "## 3.5 Automating Reports and Email Notifications\n",
    "### Overview:\n",
    "In some workflows, after processing files or generating reports, you may want to automate the distribution of those reports via email. This section will introduce you to automating email notifications with attachments using Python.\n",
    "### Topics:\n",
    "- **Sending Automated Emails with smtplib:** Use the smtplib module to send emails with Python. Learn how to authenticate with an email server and send a simple email:"
   ]
  },
  {
   "cell_type": "code",
   "execution_count": null,
   "id": "74b5df6f",
   "metadata": {},
   "outputs": [],
   "source": [
    "import smtplib\n",
    "from email.mime.text import MIMEText\n",
    "\n",
    "msg = MIMEText('This is an automated report.')\n",
    "msg['Subject'] = 'Automated Report'\n",
    "msg['From'] = 'your_email@example.com'\n",
    "msg['To'] = 'recipient@example.com'\n",
    "\n",
    "with smtplib.SMTP('smtp.example.com', 587) as server:\n",
    "    server.starttls()\n",
    "    server.login('your_email@example.com', 'password')\n",
    "    server.sendmail('your_email@example.com', 'recipient@example.com', msg.as_string())"
   ]
  },
  {
   "cell_type": "markdown",
   "id": "16ac7351",
   "metadata": {},
   "source": [
    "- **Sending Automated Emails with smtplib:** Use the smtplib module to send emails with Python. Learn how to authenticate with an email server and send a simple email:"
   ]
  },
  {
   "cell_type": "code",
   "execution_count": null,
   "id": "97a94971",
   "metadata": {},
   "outputs": [],
   "source": [
    "import smtplib\n",
    "from email.mime.text import MIMEText\n",
    "\n",
    "msg = MIMEText('This is an automated report.')\n",
    "msg['Subject'] = 'Automated Report'\n",
    "msg['From'] = 'your_email@example.com'\n",
    "msg['To'] = 'recipient@example.com'\n",
    "\n",
    "with smtplib.SMTP('smtp.example.com', 587) as server:\n",
    "    server.starttls()\n",
    "    server.login('your_email@example.com', 'password')\n",
    "    server.sendmail('your_email@example.com', 'recipient@example.com', msg.as_string())"
   ]
  },
  {
   "cell_type": "markdown",
   "id": "5f4d3bb1",
   "metadata": {},
   "source": [
    "- **Sending Emails with Attachments:** Learn how to send emails with attached files (such as reports, Excel sheets, or PDFs) using email.mime modules:"
   ]
  },
  {
   "cell_type": "code",
   "execution_count": null,
   "id": "33d19cd1",
   "metadata": {},
   "outputs": [],
   "source": [
    "from email.mime.multipart import MIMEMultipart\n",
    "from email.mime.base import MIMEBase\n",
    "from email import encoders\n",
    "\n",
    "# Create a MIMEMultipart email\n",
    "msg = MIMEMultipart()\n",
    "msg['From'] = 'your_email@example.com'\n",
    "msg['To'] = 'recipient@example.com'\n",
    "msg['Subject'] = 'Automated Report with Attachment'"
   ]
  },
  {
   "cell_type": "markdown",
   "id": "15b48fca",
   "metadata": {},
   "source": [
    "- **Sending Emails with Attachments (cont.):** Learn how to send emails with attached files (such as reports, Excel sheets, or PDFs) using email.mime modules:"
   ]
  },
  {
   "cell_type": "code",
   "execution_count": null,
   "id": "2366250b",
   "metadata": {},
   "outputs": [],
   "source": [
    "from email.mime.multipart import MIMEMultipart\n",
    "from email.mime.base import MIMEBase\n",
    "from email import encoders\n",
    "\n",
    "# Create a MIMEMultipart email\n",
    "msg = MIMEMultipart()\n",
    "msg['From'] = 'your_email@example.com'\n",
    "msg['To'] = 'recipient@example.com'\n",
    "msg['Subject'] = 'Automated Report with Attachment'\n",
    "\n",
    "# Attach a file\n",
    "attachment = open('report.pdf', 'rb')\n",
    "\n",
    "part = MIMEBase('application', 'octet-stream')\n",
    "part.set_payload(attachment.read())\n",
    "encoders.encode_base64(part)\n",
    "part.add_header('Content-Disposition', 'attachment; filename= \"report.pdf\"')\n",
    "\n",
    "msg.attach(part)\n",
    "\n",
    "# Send the email\n",
    "with smtplib.SMTP('smtp.example.com', 587) as server:\n",
    "    server.starttls()\n",
    "    server.login('your_email@example.com', 'password')\n",
    "    server.sendmail(msg['From'], msg['To'], msg.as_string())"
   ]
  },
  {
   "cell_type": "markdown",
   "id": "cda0c8c3",
   "metadata": {},
   "source": [
    "This script sends an email with an attached PDF file (or any file you need to send). You can modify it to attach other types of files such as Excel sheets or Word documents."
   ]
  }
 ],
 "metadata": {
  "kernelspec": {
   "display_name": "Python 3 (ipykernel)",
   "language": "python",
   "name": "python3"
  },
  "language_info": {
   "codemirror_mode": {
    "name": "ipython",
    "version": 3
   },
   "file_extension": ".py",
   "mimetype": "text/x-python",
   "name": "python",
   "nbconvert_exporter": "python",
   "pygments_lexer": "ipython3",
   "version": "3.11.4"
  }
 },
 "nbformat": 4,
 "nbformat_minor": 5
}
